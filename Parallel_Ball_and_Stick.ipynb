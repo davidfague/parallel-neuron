{
  "nbformat": 4,
  "nbformat_minor": 0,
  "metadata": {
    "colab": {
      "provenance": [],
      "authorship_tag": "ABX9TyOtXjrOEw0Ct/yGJ+PzU+38",
      "include_colab_link": true
    },
    "kernelspec": {
      "name": "python3",
      "display_name": "Python 3"
    },
    "language_info": {
      "name": "python"
    }
  },
  "cells": [
    {
      "cell_type": "markdown",
      "metadata": {
        "id": "view-in-github",
        "colab_type": "text"
      },
      "source": [
        "<a href=\"https://colab.research.google.com/github/davidfague/parallel-neuron/blob/main/Parallel_Ball_and_Stick.ipynb\" target=\"_parent\"><img src=\"https://colab.research.google.com/assets/colab-badge.svg\" alt=\"Open In Colab\"/></a>"
      ]
    },
    {
      "cell_type": "code",
      "source": [
        "# !pip install mpi4py\n",
        "!pip install neuron"
      ],
      "metadata": {
        "colab": {
          "base_uri": "https://localhost:8080/"
        },
        "id": "X2rll_OO0D5a",
        "outputId": "c2b359ed-c929-4b88-c988-95fbe3f07fba"
      },
      "execution_count": 1,
      "outputs": [
        {
          "output_type": "stream",
          "name": "stdout",
          "text": [
            "Collecting neuron\n",
            "  Downloading NEURON-8.2.6-cp311-cp311-manylinux_2_17_x86_64.manylinux2014_x86_64.whl.metadata (3.7 kB)\n",
            "Requirement already satisfied: numpy<2,>=1.9.3 in /usr/local/lib/python3.11/dist-packages (from neuron) (1.26.4)\n",
            "Requirement already satisfied: packaging in /usr/local/lib/python3.11/dist-packages (from neuron) (24.2)\n",
            "Collecting find-libpython (from neuron)\n",
            "  Downloading find_libpython-0.4.0-py3-none-any.whl.metadata (2.8 kB)\n",
            "Requirement already satisfied: setuptools in /usr/local/lib/python3.11/dist-packages (from neuron) (75.1.0)\n",
            "Downloading NEURON-8.2.6-cp311-cp311-manylinux_2_17_x86_64.manylinux2014_x86_64.whl (15.2 MB)\n",
            "\u001b[2K   \u001b[90m━━━━━━━━━━━━━━━━━━━━━━━━━━━━━━━━━━━━━━━━\u001b[0m \u001b[32m15.2/15.2 MB\u001b[0m \u001b[31m50.1 MB/s\u001b[0m eta \u001b[36m0:00:00\u001b[0m\n",
            "\u001b[?25hDownloading find_libpython-0.4.0-py3-none-any.whl (8.7 kB)\n",
            "Installing collected packages: find-libpython, neuron\n",
            "Successfully installed find-libpython-0.4.0 neuron-8.2.6\n"
          ]
        }
      ]
    },
    {
      "cell_type": "code",
      "source": [
        "!git clone https://github.com/davidfague/parallel-neuron.git"
      ],
      "metadata": {
        "colab": {
          "base_uri": "https://localhost:8080/"
        },
        "id": "yauBdlDQzmTQ",
        "outputId": "a9142812-4e9c-4f7f-db49-3cb97724282b"
      },
      "execution_count": 2,
      "outputs": [
        {
          "output_type": "stream",
          "name": "stdout",
          "text": [
            "Cloning into 'parallel-neuron'...\n",
            "remote: Enumerating objects: 35, done.\u001b[K\n",
            "remote: Counting objects: 100% (35/35), done.\u001b[K\n",
            "remote: Compressing objects: 100% (30/30), done.\u001b[K\n",
            "remote: Total 35 (delta 12), reused 13 (delta 4), pack-reused 0 (from 0)\u001b[K\n",
            "Receiving objects: 100% (35/35), 13.46 KiB | 2.69 MiB/s, done.\n",
            "Resolving deltas: 100% (12/12), done.\n"
          ]
        }
      ]
    },
    {
      "cell_type": "code",
      "source": [
        "%cd parallel-neuron/"
      ],
      "metadata": {
        "colab": {
          "base_uri": "https://localhost:8080/"
        },
        "id": "9ncttY2Cz20R",
        "outputId": "5e28f1ad-d23a-4cc5-ead0-26bb5143779f"
      },
      "execution_count": 3,
      "outputs": [
        {
          "output_type": "stream",
          "name": "stdout",
          "text": [
            "/content/parallel-neuron\n"
          ]
        }
      ]
    },
    {
      "cell_type": "code",
      "source": [
        "OMPI_ALLOW_RUN_AS_ROOT=1"
      ],
      "metadata": {
        "id": "1AfOccrU3s_6"
      },
      "execution_count": 4,
      "outputs": []
    },
    {
      "cell_type": "code",
      "source": [
        "OMPI_ALLOW_RUN_AS_ROOT_CONFIRM=1"
      ],
      "metadata": {
        "id": "a_gbV5oF3rmz"
      },
      "execution_count": 5,
      "outputs": []
    },
    {
      "cell_type": "code",
      "source": [
        "!mpiexec --allow-run-as-root -n 4 python testmpi.py"
      ],
      "metadata": {
        "colab": {
          "base_uri": "https://localhost:8080/"
        },
        "id": "sKf-HMxAzR0P",
        "outputId": "c7fd0b9c-207f-4766-b0a7-2bfe25227f9d"
      },
      "execution_count": 10,
      "outputs": [
        {
          "output_type": "stream",
          "name": "stdout",
          "text": [
            "--------------------------------------------------------------------------\n",
            "There are not enough slots available in the system to satisfy the 4\n",
            "slots that were requested by the application:\n",
            "\n",
            "  python\n",
            "\n",
            "Either request fewer slots for your application, or make more slots\n",
            "available for use.\n",
            "\n",
            "A \"slot\" is the Open MPI term for an allocatable unit where we can\n",
            "launch a process.  The number of slots available are defined by the\n",
            "environment in which Open MPI processes are run:\n",
            "\n",
            "  1. Hostfile, via \"slots=N\" clauses (N defaults to number of\n",
            "     processor cores if not provided)\n",
            "  2. The --host command line parameter, via a \":N\" suffix on the\n",
            "     hostname (N defaults to 1 if not provided)\n",
            "  3. Resource manager (e.g., SLURM, PBS/Torque, LSF, etc.)\n",
            "  4. If none of a hostfile, the --host command line parameter, or an\n",
            "     RM is present, Open MPI defaults to the number of processor cores\n",
            "\n",
            "In all the above cases, if you want Open MPI to default to the number\n",
            "of hardware threads instead of the number of processor cores, use the\n",
            "--use-hwthread-cpus option.\n",
            "\n",
            "Alternatively, you can use the --oversubscribe option to ignore the\n",
            "number of available slots when deciding the number of processes to\n",
            "launch.\n",
            "--------------------------------------------------------------------------\n"
          ]
        }
      ]
    },
    {
      "cell_type": "code",
      "source": [
        "!mpiexec --allow-run-as-root -n 2 python test_ring2.py"
      ],
      "metadata": {
        "colab": {
          "base_uri": "https://localhost:8080/"
        },
        "id": "ulv-NXHL0H1b",
        "outputId": "7253ebbb-31f3-456d-8b94-9e4c781effd8"
      },
      "execution_count": 9,
      "outputs": [
        {
          "output_type": "stream",
          "name": "stdout",
          "text": [
            "--------------------------------------------------------------------------\n",
            "There are not enough slots available in the system to satisfy the 2\n",
            "slots that were requested by the application:\n",
            "\n",
            "  python\n",
            "\n",
            "Either request fewer slots for your application, or make more slots\n",
            "available for use.\n",
            "\n",
            "A \"slot\" is the Open MPI term for an allocatable unit where we can\n",
            "launch a process.  The number of slots available are defined by the\n",
            "environment in which Open MPI processes are run:\n",
            "\n",
            "  1. Hostfile, via \"slots=N\" clauses (N defaults to number of\n",
            "     processor cores if not provided)\n",
            "  2. The --host command line parameter, via a \":N\" suffix on the\n",
            "     hostname (N defaults to 1 if not provided)\n",
            "  3. Resource manager (e.g., SLURM, PBS/Torque, LSF, etc.)\n",
            "  4. If none of a hostfile, the --host command line parameter, or an\n",
            "     RM is present, Open MPI defaults to the number of processor cores\n",
            "\n",
            "In all the above cases, if you want Open MPI to default to the number\n",
            "of hardware threads instead of the number of processor cores, use the\n",
            "--use-hwthread-cpus option.\n",
            "\n",
            "Alternatively, you can use the --oversubscribe option to ignore the\n",
            "number of available slots when deciding the number of processes to\n",
            "launch.\n",
            "--------------------------------------------------------------------------\n"
          ]
        }
      ]
    }
  ]
}